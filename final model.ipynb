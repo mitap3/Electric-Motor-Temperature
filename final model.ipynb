{
 "cells": [
  {
   "cell_type": "code",
   "execution_count": 28,
   "metadata": {},
   "outputs": [],
   "source": [
    "import pandas as pd\n",
    "from sklearn.model_selection import train_test_split\n",
    "from sklearn.datasets import load_iris"
   ]
  },
  {
   "cell_type": "code",
   "execution_count": 29,
   "metadata": {},
   "outputs": [],
   "source": [
    "data=pd.read_csv(\"C://project//data//train.csv\")"
   ]
  },
  {
   "cell_type": "code",
   "execution_count": 30,
   "metadata": {},
   "outputs": [
    {
     "data": {
      "text/html": [
       "<div>\n",
       "<style scoped>\n",
       "    .dataframe tbody tr th:only-of-type {\n",
       "        vertical-align: middle;\n",
       "    }\n",
       "\n",
       "    .dataframe tbody tr th {\n",
       "        vertical-align: top;\n",
       "    }\n",
       "\n",
       "    .dataframe thead th {\n",
       "        text-align: right;\n",
       "    }\n",
       "</style>\n",
       "<table border=\"1\" class=\"dataframe\">\n",
       "  <thead>\n",
       "    <tr style=\"text-align: right;\">\n",
       "      <th></th>\n",
       "      <th>Unnamed: 0</th>\n",
       "      <th>ambient</th>\n",
       "      <th>coolant</th>\n",
       "      <th>u_d</th>\n",
       "      <th>u_q</th>\n",
       "      <th>motor_speed</th>\n",
       "      <th>torque</th>\n",
       "      <th>i_d</th>\n",
       "      <th>i_q</th>\n",
       "      <th>pm</th>\n",
       "      <th>stator_yoke</th>\n",
       "      <th>stator_tooth</th>\n",
       "      <th>stator_winding</th>\n",
       "      <th>profile_id</th>\n",
       "    </tr>\n",
       "  </thead>\n",
       "  <tbody>\n",
       "    <tr>\n",
       "      <th>0</th>\n",
       "      <td>1</td>\n",
       "      <td>-0.752143</td>\n",
       "      <td>-1.118446</td>\n",
       "      <td>0.327935</td>\n",
       "      <td>-1.297858</td>\n",
       "      <td>-1.222428</td>\n",
       "      <td>-0.250182</td>\n",
       "      <td>1.029572</td>\n",
       "      <td>-0.245860</td>\n",
       "      <td>-2.522071</td>\n",
       "      <td>-1.831422</td>\n",
       "      <td>-2.066143</td>\n",
       "      <td>-2.018033</td>\n",
       "      <td>4</td>\n",
       "    </tr>\n",
       "    <tr>\n",
       "      <th>1</th>\n",
       "      <td>3</td>\n",
       "      <td>-0.782892</td>\n",
       "      <td>-1.116681</td>\n",
       "      <td>0.332771</td>\n",
       "      <td>-1.301822</td>\n",
       "      <td>-1.222428</td>\n",
       "      <td>-0.249431</td>\n",
       "      <td>1.029448</td>\n",
       "      <td>-0.245818</td>\n",
       "      <td>-2.522673</td>\n",
       "      <td>-1.830400</td>\n",
       "      <td>-2.064073</td>\n",
       "      <td>-2.017343</td>\n",
       "      <td>4</td>\n",
       "    </tr>\n",
       "    <tr>\n",
       "      <th>2</th>\n",
       "      <td>4</td>\n",
       "      <td>-0.780935</td>\n",
       "      <td>-1.116764</td>\n",
       "      <td>0.333700</td>\n",
       "      <td>-1.301852</td>\n",
       "      <td>-1.222430</td>\n",
       "      <td>-0.248636</td>\n",
       "      <td>1.032845</td>\n",
       "      <td>-0.246955</td>\n",
       "      <td>-2.521639</td>\n",
       "      <td>-1.830333</td>\n",
       "      <td>-2.063137</td>\n",
       "      <td>-2.017632</td>\n",
       "      <td>4</td>\n",
       "    </tr>\n",
       "    <tr>\n",
       "      <th>3</th>\n",
       "      <td>5</td>\n",
       "      <td>-0.774043</td>\n",
       "      <td>-1.116775</td>\n",
       "      <td>0.335206</td>\n",
       "      <td>-1.303118</td>\n",
       "      <td>-1.222429</td>\n",
       "      <td>-0.248701</td>\n",
       "      <td>1.031807</td>\n",
       "      <td>-0.246610</td>\n",
       "      <td>-2.521900</td>\n",
       "      <td>-1.830498</td>\n",
       "      <td>-2.062795</td>\n",
       "      <td>-2.018145</td>\n",
       "      <td>4</td>\n",
       "    </tr>\n",
       "    <tr>\n",
       "      <th>4</th>\n",
       "      <td>6</td>\n",
       "      <td>-0.762936</td>\n",
       "      <td>-1.116955</td>\n",
       "      <td>0.334901</td>\n",
       "      <td>-1.303017</td>\n",
       "      <td>-1.222429</td>\n",
       "      <td>-0.248197</td>\n",
       "      <td>1.031031</td>\n",
       "      <td>-0.246341</td>\n",
       "      <td>-2.522203</td>\n",
       "      <td>-1.831931</td>\n",
       "      <td>-2.062549</td>\n",
       "      <td>-2.017884</td>\n",
       "      <td>4</td>\n",
       "    </tr>\n",
       "  </tbody>\n",
       "</table>\n",
       "</div>"
      ],
      "text/plain": [
       "   Unnamed: 0   ambient   coolant       u_d       u_q  motor_speed    torque  \\\n",
       "0           1 -0.752143 -1.118446  0.327935 -1.297858    -1.222428 -0.250182   \n",
       "1           3 -0.782892 -1.116681  0.332771 -1.301822    -1.222428 -0.249431   \n",
       "2           4 -0.780935 -1.116764  0.333700 -1.301852    -1.222430 -0.248636   \n",
       "3           5 -0.774043 -1.116775  0.335206 -1.303118    -1.222429 -0.248701   \n",
       "4           6 -0.762936 -1.116955  0.334901 -1.303017    -1.222429 -0.248197   \n",
       "\n",
       "        i_d       i_q        pm  stator_yoke  stator_tooth  stator_winding  \\\n",
       "0  1.029572 -0.245860 -2.522071    -1.831422     -2.066143       -2.018033   \n",
       "1  1.029448 -0.245818 -2.522673    -1.830400     -2.064073       -2.017343   \n",
       "2  1.032845 -0.246955 -2.521639    -1.830333     -2.063137       -2.017632   \n",
       "3  1.031807 -0.246610 -2.521900    -1.830498     -2.062795       -2.018145   \n",
       "4  1.031031 -0.246341 -2.522203    -1.831931     -2.062549       -2.017884   \n",
       "\n",
       "   profile_id  \n",
       "0           4  \n",
       "1           4  \n",
       "2           4  \n",
       "3           4  \n",
       "4           4  "
      ]
     },
     "execution_count": 30,
     "metadata": {},
     "output_type": "execute_result"
    }
   ],
   "source": [
    "data.head()"
   ]
  },
  {
   "cell_type": "code",
   "execution_count": 31,
   "metadata": {},
   "outputs": [
    {
     "name": "stdout",
     "output_type": "stream",
     "text": [
      "(698649, 14)\n"
     ]
    }
   ],
   "source": [
    "print(data.shape)"
   ]
  },
  {
   "cell_type": "code",
   "execution_count": 32,
   "metadata": {},
   "outputs": [
    {
     "name": "stdout",
     "output_type": "stream",
     "text": [
      "Index(['Unnamed: 0', 'ambient', 'coolant', 'u_d', 'u_q', 'motor_speed',\n",
      "       'torque', 'i_d', 'i_q', 'pm', 'stator_yoke', 'stator_tooth',\n",
      "       'stator_winding', 'profile_id'],\n",
      "      dtype='object')\n"
     ]
    }
   ],
   "source": [
    "print(data.columns)"
   ]
  },
  {
   "cell_type": "code",
   "execution_count": 33,
   "metadata": {},
   "outputs": [],
   "source": [
    "data.drop(['Unnamed: 0','profile_id'],axis =1,inplace=True)"
   ]
  },
  {
   "cell_type": "code",
   "execution_count": 34,
   "metadata": {},
   "outputs": [
    {
     "data": {
      "text/html": [
       "<div>\n",
       "<style scoped>\n",
       "    .dataframe tbody tr th:only-of-type {\n",
       "        vertical-align: middle;\n",
       "    }\n",
       "\n",
       "    .dataframe tbody tr th {\n",
       "        vertical-align: top;\n",
       "    }\n",
       "\n",
       "    .dataframe thead th {\n",
       "        text-align: right;\n",
       "    }\n",
       "</style>\n",
       "<table border=\"1\" class=\"dataframe\">\n",
       "  <thead>\n",
       "    <tr style=\"text-align: right;\">\n",
       "      <th></th>\n",
       "      <th>ambient</th>\n",
       "      <th>coolant</th>\n",
       "      <th>u_d</th>\n",
       "      <th>u_q</th>\n",
       "      <th>motor_speed</th>\n",
       "      <th>torque</th>\n",
       "      <th>i_d</th>\n",
       "      <th>i_q</th>\n",
       "      <th>pm</th>\n",
       "      <th>stator_yoke</th>\n",
       "      <th>stator_tooth</th>\n",
       "      <th>stator_winding</th>\n",
       "    </tr>\n",
       "  </thead>\n",
       "  <tbody>\n",
       "    <tr>\n",
       "      <th>0</th>\n",
       "      <td>-0.752143</td>\n",
       "      <td>-1.118446</td>\n",
       "      <td>0.327935</td>\n",
       "      <td>-1.297858</td>\n",
       "      <td>-1.222428</td>\n",
       "      <td>-0.250182</td>\n",
       "      <td>1.029572</td>\n",
       "      <td>-0.245860</td>\n",
       "      <td>-2.522071</td>\n",
       "      <td>-1.831422</td>\n",
       "      <td>-2.066143</td>\n",
       "      <td>-2.018033</td>\n",
       "    </tr>\n",
       "    <tr>\n",
       "      <th>1</th>\n",
       "      <td>-0.782892</td>\n",
       "      <td>-1.116681</td>\n",
       "      <td>0.332771</td>\n",
       "      <td>-1.301822</td>\n",
       "      <td>-1.222428</td>\n",
       "      <td>-0.249431</td>\n",
       "      <td>1.029448</td>\n",
       "      <td>-0.245818</td>\n",
       "      <td>-2.522673</td>\n",
       "      <td>-1.830400</td>\n",
       "      <td>-2.064073</td>\n",
       "      <td>-2.017343</td>\n",
       "    </tr>\n",
       "    <tr>\n",
       "      <th>2</th>\n",
       "      <td>-0.780935</td>\n",
       "      <td>-1.116764</td>\n",
       "      <td>0.333700</td>\n",
       "      <td>-1.301852</td>\n",
       "      <td>-1.222430</td>\n",
       "      <td>-0.248636</td>\n",
       "      <td>1.032845</td>\n",
       "      <td>-0.246955</td>\n",
       "      <td>-2.521639</td>\n",
       "      <td>-1.830333</td>\n",
       "      <td>-2.063137</td>\n",
       "      <td>-2.017632</td>\n",
       "    </tr>\n",
       "    <tr>\n",
       "      <th>3</th>\n",
       "      <td>-0.774043</td>\n",
       "      <td>-1.116775</td>\n",
       "      <td>0.335206</td>\n",
       "      <td>-1.303118</td>\n",
       "      <td>-1.222429</td>\n",
       "      <td>-0.248701</td>\n",
       "      <td>1.031807</td>\n",
       "      <td>-0.246610</td>\n",
       "      <td>-2.521900</td>\n",
       "      <td>-1.830498</td>\n",
       "      <td>-2.062795</td>\n",
       "      <td>-2.018145</td>\n",
       "    </tr>\n",
       "    <tr>\n",
       "      <th>4</th>\n",
       "      <td>-0.762936</td>\n",
       "      <td>-1.116955</td>\n",
       "      <td>0.334901</td>\n",
       "      <td>-1.303017</td>\n",
       "      <td>-1.222429</td>\n",
       "      <td>-0.248197</td>\n",
       "      <td>1.031031</td>\n",
       "      <td>-0.246341</td>\n",
       "      <td>-2.522203</td>\n",
       "      <td>-1.831931</td>\n",
       "      <td>-2.062549</td>\n",
       "      <td>-2.017884</td>\n",
       "    </tr>\n",
       "  </tbody>\n",
       "</table>\n",
       "</div>"
      ],
      "text/plain": [
       "    ambient   coolant       u_d       u_q  motor_speed    torque       i_d  \\\n",
       "0 -0.752143 -1.118446  0.327935 -1.297858    -1.222428 -0.250182  1.029572   \n",
       "1 -0.782892 -1.116681  0.332771 -1.301822    -1.222428 -0.249431  1.029448   \n",
       "2 -0.780935 -1.116764  0.333700 -1.301852    -1.222430 -0.248636  1.032845   \n",
       "3 -0.774043 -1.116775  0.335206 -1.303118    -1.222429 -0.248701  1.031807   \n",
       "4 -0.762936 -1.116955  0.334901 -1.303017    -1.222429 -0.248197  1.031031   \n",
       "\n",
       "        i_q        pm  stator_yoke  stator_tooth  stator_winding  \n",
       "0 -0.245860 -2.522071    -1.831422     -2.066143       -2.018033  \n",
       "1 -0.245818 -2.522673    -1.830400     -2.064073       -2.017343  \n",
       "2 -0.246955 -2.521639    -1.830333     -2.063137       -2.017632  \n",
       "3 -0.246610 -2.521900    -1.830498     -2.062795       -2.018145  \n",
       "4 -0.246341 -2.522203    -1.831931     -2.062549       -2.017884  "
      ]
     },
     "execution_count": 34,
     "metadata": {},
     "output_type": "execute_result"
    }
   ],
   "source": [
    "data.head()"
   ]
  },
  {
   "cell_type": "code",
   "execution_count": 35,
   "metadata": {},
   "outputs": [],
   "source": [
    "from sklearn.model_selection import train_test_split\n",
    "import numpy as np"
   ]
  },
  {
   "cell_type": "code",
   "execution_count": 36,
   "metadata": {},
   "outputs": [],
   "source": [
    "y=data[\"pm\"]\n",
    "data.drop([\"pm\"],axis=1,inplace=True)\n",
    "predictors=list (data.columns)\n",
    "x=data[predictors]\n"
   ]
  },
  {
   "cell_type": "code",
   "execution_count": 37,
   "metadata": {},
   "outputs": [
    {
     "data": {
      "text/plain": [
       "RandomForestRegressor(bootstrap=True, criterion='mse', max_depth=None,\n",
       "           max_features='auto', max_leaf_nodes=None,\n",
       "           min_impurity_decrease=0.0, min_impurity_split=None,\n",
       "           min_samples_leaf=2, min_samples_split=2,\n",
       "           min_weight_fraction_leaf=0.0, n_estimators=8, n_jobs=None,\n",
       "           oob_score=False, random_state=None, verbose=0, warm_start=False)"
      ]
     },
     "execution_count": 37,
     "metadata": {},
     "output_type": "execute_result"
    }
   ],
   "source": [
    "from sklearn.ensemble import RandomForestRegressor\n",
    "X_train,X_test,y_train,y_test=train_test_split(x,y,test_size=0.3,random_state=0)\n",
    "regressor=RandomForestRegressor(n_estimators=8,min_samples_leaf=2,max_features='auto')\n",
    "regressor.fit(X_train, y_train)"
   ]
  },
  {
   "cell_type": "code",
   "execution_count": 38,
   "metadata": {},
   "outputs": [
    {
     "name": "stdout",
     "output_type": "stream",
     "text": [
      "Mean Absolute Error: 0.0078172752014058\n",
      "Accuracy: 99.72 %.\n"
     ]
    }
   ],
   "source": [
    "predict_train_data=regressor.predict(X_train)\n",
    "err=abs(predict_train_data- y_train)\n",
    "print('Mean Absolute Error:',np.mean(err))\n",
    "# calculate mean absolute percentage error(MAPE)\n",
    "mape0=100 * (err/y_train)\n",
    "# calculate and display accuracy\n",
    "accuracyO=100-np.mean(mape0)\n",
    "print ('Accuracy:', round(accuracyO,2), '%.')"
   ]
  },
  {
   "cell_type": "code",
   "execution_count": 39,
   "metadata": {},
   "outputs": [],
   "source": [
    "# model with 150 trees , n_jobs=-1"
   ]
  },
  {
   "cell_type": "code",
   "execution_count": 40,
   "metadata": {},
   "outputs": [],
   "source": [
    "regressor = RandomForestRegressor(n_estimators=150,n_jobs=-1)\n",
    "regressor.fit(X_train, y_train)\n",
    "pred1=regressor.predict(X_test)"
   ]
  },
  {
   "cell_type": "code",
   "execution_count": 41,
   "metadata": {},
   "outputs": [
    {
     "name": "stdout",
     "output_type": "stream",
     "text": [
      "Mean Aboslute Error: 0.01201912526294776\n"
     ]
    }
   ],
   "source": [
    "errors1 = abs(pred1 - y_test)\n",
    "#print out the mean absolute error(mae)\n",
    "print('Mean Aboslute Error:', np.mean(errors1))"
   ]
  },
  {
   "cell_type": "code",
   "execution_count": 44,
   "metadata": {},
   "outputs": [
    {
     "name": "stdout",
     "output_type": "stream",
     "text": [
      "Accuracy: 97.63 %.\n"
     ]
    }
   ],
   "source": [
    "# calculate mean absolute percentage error (MAPE)\n",
    "mape1 = 100 * (errors1 / y_test)\n",
    "# calculate and display accuracy \n",
    "accuracy1 = 100 - np.mean(mape1)\n",
    "print('Accuracy:', round(accuracy1, 2), '%.')"
   ]
  },
  {
   "cell_type": "code",
   "execution_count": 45,
   "metadata": {},
   "outputs": [],
   "source": [
    "\n",
    "import pickle\n",
    "def save_model(model,file):\n",
    "    model.fit(x,y)\n",
    "    pickle.dump(model,open(file,'wb'))\n",
    "    print('Model Saved!')\n",
    "    save_model(final_model,'final_model.pkl')\n",
    "\n"
   ]
  },
  {
   "cell_type": "code",
   "execution_count": null,
   "metadata": {},
   "outputs": [],
   "source": []
  }
 ],
 "metadata": {
  "kernelspec": {
   "display_name": "Python 3",
   "language": "python",
   "name": "python3"
  },
  "language_info": {
   "codemirror_mode": {
    "name": "ipython",
    "version": 3
   },
   "file_extension": ".py",
   "mimetype": "text/x-python",
   "name": "python",
   "nbconvert_exporter": "python",
   "pygments_lexer": "ipython3",
   "version": "3.7.3"
  }
 },
 "nbformat": 4,
 "nbformat_minor": 2
}
